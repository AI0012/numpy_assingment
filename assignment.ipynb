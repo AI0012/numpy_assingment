{
 "cells": [
  {
   "cell_type": "code",
   "execution_count": 26,
   "id": "4f7723fb",
   "metadata": {},
   "outputs": [],
   "source": [
    "import numpy as np"
   ]
  },
  {
   "cell_type": "code",
   "execution_count": 4,
   "id": "645872be",
   "metadata": {
    "scrolled": true
   },
   "outputs": [
    {
     "data": {
      "text/plain": [
       "array([[[0, 1],\n",
       "        [2, 3]],\n",
       "\n",
       "       [[4, 5],\n",
       "        [6, 7]]])"
      ]
     },
     "metadata": {},
     "output_type": "display_data"
    }
   ],
   "source": [
    "data = np.arange(2*2*2).reshape(2,2,2) #1st funciton\n",
    "display(data)"
   ]
  },
  {
   "cell_type": "code",
   "execution_count": 55,
   "id": "0faee4b7",
   "metadata": {},
   "outputs": [
    {
     "data": {
      "text/plain": [
       "numpy.ndarray"
      ]
     },
     "execution_count": 55,
     "metadata": {},
     "output_type": "execute_result"
    }
   ],
   "source": [
    "type(data)"
   ]
  },
  {
   "cell_type": "code",
   "execution_count": 5,
   "id": "c3e99ed8",
   "metadata": {},
   "outputs": [
    {
     "data": {
      "text/plain": [
       "array([0, 1, 2, 3, 4, 5, 6, 7])"
      ]
     },
     "execution_count": 5,
     "metadata": {},
     "output_type": "execute_result"
    }
   ],
   "source": [
    "data.flatten()"
   ]
  },
  {
   "cell_type": "code",
   "execution_count": 6,
   "id": "bb9b8476",
   "metadata": {},
   "outputs": [
    {
     "data": {
      "text/plain": [
       "array([[[0, 1],\n",
       "        [2, 3]],\n",
       "\n",
       "       [[4, 5],\n",
       "        [6, 7]]])"
      ]
     },
     "execution_count": 6,
     "metadata": {},
     "output_type": "execute_result"
    }
   ],
   "source": [
    "data.conjugate()"
   ]
  },
  {
   "cell_type": "code",
   "execution_count": 8,
   "id": "f876b54a",
   "metadata": {},
   "outputs": [
    {
     "data": {
      "text/plain": [
       "3"
      ]
     },
     "execution_count": 8,
     "metadata": {},
     "output_type": "execute_result"
    }
   ],
   "source": [
    "data.ndim"
   ]
  },
  {
   "cell_type": "code",
   "execution_count": 12,
   "id": "54ce5507",
   "metadata": {},
   "outputs": [
    {
     "data": {
      "text/plain": [
       "array([[[0, 4],\n",
       "        [2, 6]],\n",
       "\n",
       "       [[1, 5],\n",
       "        [3, 7]]])"
      ]
     },
     "execution_count": 12,
     "metadata": {},
     "output_type": "execute_result"
    }
   ],
   "source": [
    "data.transpose()"
   ]
  },
  {
   "cell_type": "code",
   "execution_count": 15,
   "id": "7f5fb96b",
   "metadata": {},
   "outputs": [
    {
     "data": {
      "text/plain": [
       "array([[0, 1, 2],\n",
       "       [3, 4, 5],\n",
       "       [6, 7, 8]])"
      ]
     },
     "execution_count": 15,
     "metadata": {},
     "output_type": "execute_result"
    }
   ],
   "source": [
    "a = np.arange(9).reshape(3,3)\n",
    "a"
   ]
  },
  {
   "cell_type": "code",
   "execution_count": 24,
   "id": "0b42f702",
   "metadata": {},
   "outputs": [
    {
     "data": {
      "text/plain": [
       "array([[ 0,  2,  4],\n",
       "       [ 6,  8, 10],\n",
       "       [12, 14, 16]])"
      ]
     },
     "execution_count": 24,
     "metadata": {},
     "output_type": "execute_result"
    }
   ],
   "source": [
    "b =a*2\n",
    "b"
   ]
  },
  {
   "cell_type": "code",
   "execution_count": 27,
   "id": "1f4f220a",
   "metadata": {},
   "outputs": [
    {
     "data": {
      "text/plain": [
       "array([[0.        , 1.41421356, 2.        ],\n",
       "       [2.44948974, 2.82842712, 3.16227766],\n",
       "       [3.46410162, 3.74165739, 4.        ]])"
      ]
     },
     "execution_count": 27,
     "metadata": {},
     "output_type": "execute_result"
    }
   ],
   "source": [
    "np.sqrt(b) #2nd function "
   ]
  },
  {
   "cell_type": "code",
   "execution_count": 32,
   "id": "92f353da",
   "metadata": {},
   "outputs": [
    {
     "data": {
      "text/plain": [
       "array([ 0,  2,  4,  6,  8, 10, 12, 14, 16,  6])"
      ]
     },
     "execution_count": 32,
     "metadata": {},
     "output_type": "execute_result"
    }
   ],
   "source": [
    "np.append(b , 6) #3rd function"
   ]
  },
  {
   "cell_type": "code",
   "execution_count": 34,
   "id": "9f0e7e2c",
   "metadata": {},
   "outputs": [
    {
     "data": {
      "text/plain": [
       "array([[1.00000000e+00, 7.38905610e+00, 5.45981500e+01],\n",
       "       [4.03428793e+02, 2.98095799e+03, 2.20264658e+04],\n",
       "       [1.62754791e+05, 1.20260428e+06, 8.88611052e+06]])"
      ]
     },
     "execution_count": 34,
     "metadata": {},
     "output_type": "execute_result"
    }
   ],
   "source": [
    "np.exp(b) #4th function"
   ]
  },
  {
   "cell_type": "code",
   "execution_count": 101,
   "id": "71948dfd",
   "metadata": {},
   "outputs": [],
   "source": [
    "x = [2,4,5,6,7,8]\n",
    "y = [7,6,5,4,3,2]"
   ]
  },
  {
   "cell_type": "code",
   "execution_count": 102,
   "id": "c4d7d1ec",
   "metadata": {},
   "outputs": [
    {
     "data": {
      "text/plain": [
       "array([7, 6, 5, 6, 7, 8])"
      ]
     },
     "execution_count": 102,
     "metadata": {},
     "output_type": "execute_result"
    }
   ],
   "source": [
    "np.maximum(x , y) #5th binary universal function"
   ]
  },
  {
   "cell_type": "code",
   "execution_count": 103,
   "id": "7c0967bd",
   "metadata": {},
   "outputs": [
    {
     "data": {
      "text/plain": [
       "array([ 128, 4096, 3125, 1296,  343,   64])"
      ]
     },
     "execution_count": 103,
     "metadata": {},
     "output_type": "execute_result"
    }
   ],
   "source": [
    "np.power(x, y) #6th binary universal function"
   ]
  },
  {
   "cell_type": "code",
   "execution_count": 104,
   "id": "b3b1b7e5",
   "metadata": {},
   "outputs": [
    {
     "data": {
      "text/plain": [
       "array([ 4, 16, 25, 36, 49, 64])"
      ]
     },
     "execution_count": 104,
     "metadata": {},
     "output_type": "execute_result"
    }
   ],
   "source": [
    "np.square(x) #7th binary universal function"
   ]
  },
  {
   "cell_type": "code",
   "execution_count": 105,
   "id": "01513d6d",
   "metadata": {},
   "outputs": [
    {
     "data": {
      "text/plain": [
       "array([   7.3890561 ,   54.59815003,  148.4131591 ,  403.42879349,\n",
       "       1096.63315843, 2980.95798704])"
      ]
     },
     "execution_count": 105,
     "metadata": {},
     "output_type": "execute_result"
    }
   ],
   "source": [
    "np.exp(x) #8th universal function"
   ]
  },
  {
   "cell_type": "code",
   "execution_count": 106,
   "id": "411c519b",
   "metadata": {},
   "outputs": [
    {
     "data": {
      "text/plain": [
       "array([2., 4., 5., 6., 7., 8.])"
      ]
     },
     "execution_count": 106,
     "metadata": {},
     "output_type": "execute_result"
    }
   ],
   "source": [
    "np.floor(x) #9th universal function"
   ]
  },
  {
   "cell_type": "code",
   "execution_count": 107,
   "id": "3a7baafb",
   "metadata": {},
   "outputs": [
    {
     "data": {
      "text/plain": [
       "array([0., 0., 0., 0., 0., 0.])"
      ]
     },
     "execution_count": 107,
     "metadata": {},
     "output_type": "execute_result"
    }
   ],
   "source": [
    "np.zeros(6) #10th universal function"
   ]
  },
  {
   "cell_type": "code",
   "execution_count": 108,
   "id": "f1b02fbe",
   "metadata": {},
   "outputs": [
    {
     "data": {
      "text/plain": [
       "array([1., 1., 1.])"
      ]
     },
     "execution_count": 108,
     "metadata": {},
     "output_type": "execute_result"
    }
   ],
   "source": [
    "np.ones(3) #11th universal function"
   ]
  },
  {
   "cell_type": "code",
   "execution_count": 109,
   "id": "920a7717",
   "metadata": {},
   "outputs": [],
   "source": [
    "np.save(\"bcc.npy\",x) #12th universal function"
   ]
  },
  {
   "cell_type": "code",
   "execution_count": 110,
   "id": "868e4f39",
   "metadata": {},
   "outputs": [
    {
     "data": {
      "text/plain": [
       "array([2, 4, 5, 6, 7, 8])"
      ]
     },
     "execution_count": 110,
     "metadata": {},
     "output_type": "execute_result"
    }
   ],
   "source": [
    "np.load(\"bcc.npy\") #13th universal function"
   ]
  },
  {
   "cell_type": "code",
   "execution_count": 112,
   "id": "7a93e499",
   "metadata": {},
   "outputs": [
    {
     "data": {
      "text/plain": [
       "array([107, 114, 161, 108, 133, 136, 229,  24, 241, 184, 221, 117, 212,\n",
       "        69, 218,  45, 128,  24,  12, 120,  54, 222, 182,  80,  45,  51,\n",
       "       142, 209, 224, 211, 163,  22, 111,  10,  20, 142, 174,  37, 180,\n",
       "         3,  44, 122, 223,  65, 187, 243, 102,  24,  57, 150, 163,  19,\n",
       "       178, 120, 101, 133, 235, 117, 190, 147, 216, 131,   2, 200, 177,\n",
       "        77, 101,  85,  76, 149, 244, 234, 155, 168, 209, 171, 125, 159,\n",
       "        53,  61, 246, 236, 232,  15,  73, 137,  91,  58,   9, 223,  27,\n",
       "       235, 193,  87,  75,  13, 110, 130,  95, 146,  16, 143, 210, 241,\n",
       "        31, 221, 233, 129,  66, 198,  87, 165,  52, 232,  27,  23, 213,\n",
       "        36, 135, 253,  32, 230, 116,  15,  47,  37,  80, 237, 103, 130,\n",
       "         5,  94, 203, 123,  81,  89, 209,  98, 197, 112, 124,  19, 139,\n",
       "       252, 204, 138,  66, 157,  80, 102, 163, 219, 246,  94, 239,  34,\n",
       "        18, 248, 195,  62, 187,   0, 125, 129, 139, 188, 160, 195,  63,\n",
       "        61, 154, 134,  26, 181, 112, 232,  57, 126,  23,   9,  18, 246,\n",
       "        13, 162, 162, 209, 152,  48,  63, 175,  82, 175, 212, 109,  31,\n",
       "       101, 118, 246,  28,  94, 124, 176,  40, 207,  60,  41, 240, 100,\n",
       "        71, 211, 196, 147, 185, 212,   2,  41,  25,  29, 159, 104, 121,\n",
       "       130,  18, 134,   2,  11, 145, 208,  52, 234, 174, 214,  31,  23,\n",
       "       163,  67, 233, 188,  86,  59,  80, 154, 179, 114, 178,  16,  47,\n",
       "        71,  53,  48, 163,  72,  56,  64, 163, 204, 178,  15,  11,  85,\n",
       "         9,   2,  90,  15, 188, 143, 124, 228, 248, 184, 129,  98, 216,\n",
       "       245,   9, 139,  31,  52, 194, 253, 144, 193,  88, 187, 102,  71,\n",
       "        39,  58, 167, 197, 128, 226,   8, 107, 186,  62, 159,   5, 174,\n",
       "        84, 232, 165,  91, 193,  60,  37, 198, 145,  20, 132,  89,  54,\n",
       "       229, 220,  50, 113, 192,  72, 245,  93,  51, 250,  96, 153,   6,\n",
       "        79,  40,   6,  88,  58,  16, 237, 118,  19, 108, 199, 111,  80,\n",
       "       169, 231,  65, 249, 235, 225,  40,  58, 182, 203, 248,  35, 213,\n",
       "       204,  37, 174,  70,  58,  82, 238, 143, 175, 231, 216, 227, 208,\n",
       "        68,   5,  93,  51,  99, 120,  95, 202, 155,  32, 241, 144, 152,\n",
       "       171,  51, 137, 162,  88, 246, 187, 206, 254,  74, 141,  61,  90,\n",
       "       166, 186, 127, 223,  17, 227, 125,  36, 141, 202,  90,  86, 151,\n",
       "        52,  82, 225, 131,  43, 116, 119, 182, 133,  57, 195,  91,  12,\n",
       "       208, 209, 242,  69,  36, 137,  72, 101, 200, 237,  11,  11, 252,\n",
       "       221, 167,  14, 195, 111,  64, 122, 209,  37, 144,  16, 113, 102,\n",
       "        53,  43, 210, 167,  11, 173, 240,  87, 184, 118,  97,  74, 232,\n",
       "        55, 150, 113, 250, 185, 117, 222,  40, 144, 111, 250,  24, 111,\n",
       "       144,  27, 177,  62, 184, 251,  31,  85, 170,  86, 148, 170,  66,\n",
       "       119, 242, 120,  76,  56,  37, 206, 194, 194, 110,   6,  85, 103,\n",
       "       195, 244, 253,  33,  68,   5, 232, 157, 200,  53,  95, 124,  10,\n",
       "        65, 210,  38, 178, 238, 234, 219,  43,  29, 156,  16, 197,  86,\n",
       "       174,  72, 103,  69,  50, 192, 177, 211, 242, 124, 175, 174, 174,\n",
       "       198,   1,  37, 134,  90, 191, 128, 166, 166, 119,  95,  80, 214,\n",
       "       203,  52, 222, 126, 187, 158,   5, 191,  35, 124, 237, 167, 203,\n",
       "        61,  44,  42, 184,  42,  52,  28, 252, 157, 117, 240,  42, 112,\n",
       "       221, 107, 244, 132, 144, 224, 101,  10, 214,  36, 236, 170, 105,\n",
       "        22, 121,   6, 152,  48, 227, 228,  74, 164, 231, 142,  56, 111,\n",
       "        37, 183, 146,  41, 195, 188, 233, 137,  38, 143, 216, 184,  80,\n",
       "         2, 180, 162, 224, 121,  27,  23,  42, 156,  95,  22,  57, 140,\n",
       "        86,  48, 141, 139,  24,  97,  99, 118, 156, 120, 232, 165,  36,\n",
       "       158, 205, 141])"
      ]
     },
     "execution_count": 112,
     "metadata": {},
     "output_type": "execute_result"
    }
   ],
   "source": [
    "np.random.randint(0,255,(10*8*8)) #14th universal function\n"
   ]
  },
  {
   "cell_type": "code",
   "execution_count": 114,
   "id": "779f50db",
   "metadata": {},
   "outputs": [],
   "source": [
    "z = np.array([10,24,43,64,13,10,9])"
   ]
  },
  {
   "cell_type": "code",
   "execution_count": 116,
   "id": "ce9d8f97",
   "metadata": {},
   "outputs": [
    {
     "data": {
      "text/plain": [
       "array([ 9, 10, 10, 13, 24, 43, 64])"
      ]
     },
     "execution_count": 116,
     "metadata": {},
     "output_type": "execute_result"
    }
   ],
   "source": [
    "z.sort()\n",
    "z"
   ]
  },
  {
   "cell_type": "code",
   "execution_count": 118,
   "id": "75e649f7",
   "metadata": {},
   "outputs": [
    {
     "data": {
      "text/plain": [
       "array([[ 0,  1,  2],\n",
       "       [ 3,  4,  5],\n",
       "       [ 6,  7,  8],\n",
       "       [ 0,  2,  4],\n",
       "       [ 6,  8, 10],\n",
       "       [12, 14, 16]])"
      ]
     },
     "execution_count": 118,
     "metadata": {},
     "output_type": "execute_result"
    }
   ],
   "source": [
    "g = np.concatenate((a,b)) #15th universal function\n",
    "g  "
   ]
  },
  {
   "cell_type": "code",
   "execution_count": 121,
   "id": "b4471cf0",
   "metadata": {},
   "outputs": [
    {
     "data": {
      "text/plain": [
       "array([ 1,  0,  3, 11, 19, 21])"
      ]
     },
     "execution_count": 121,
     "metadata": {},
     "output_type": "execute_result"
    }
   ],
   "source": [
    "np.diff(z) #16th universal function"
   ]
  },
  {
   "cell_type": "code",
   "execution_count": 125,
   "id": "c939fc09",
   "metadata": {},
   "outputs": [
    {
     "data": {
      "text/plain": [
       "20"
      ]
     },
     "execution_count": 125,
     "metadata": {},
     "output_type": "execute_result"
    }
   ],
   "source": [
    "#find lcm\n",
    "num1 = 4\n",
    "num2 = 5\n",
    "np.lcm(num1, num2) #17th universal function"
   ]
  },
  {
   "cell_type": "code",
   "execution_count": 129,
   "id": "45466537",
   "metadata": {},
   "outputs": [
    {
     "data": {
      "text/plain": [
       "1"
      ]
     },
     "execution_count": 129,
     "metadata": {},
     "output_type": "execute_result"
    }
   ],
   "source": [
    "#find hcf\n",
    "np.gcd(num1, num2) #18th universal function"
   ]
  },
  {
   "cell_type": "code",
   "execution_count": 130,
   "id": "124e7061",
   "metadata": {},
   "outputs": [
    {
     "data": {
      "text/plain": [
       "array([ 0.41211849, -0.54402111, -0.54402111,  0.42016704, -0.90557836,\n",
       "       -0.83177474,  0.92002604])"
      ]
     },
     "execution_count": 130,
     "metadata": {},
     "output_type": "execute_result"
    }
   ],
   "source": [
    "np.sin(z)"
   ]
  },
  {
   "cell_type": "code",
   "execution_count": 131,
   "id": "59d3c4a6",
   "metadata": {},
   "outputs": [
    {
     "data": {
      "text/plain": [
       "array([ 9, 10, 13, 24, 43, 64])"
      ]
     },
     "execution_count": 131,
     "metadata": {},
     "output_type": "execute_result"
    }
   ],
   "source": [
    "np.unique(z) #19th universal function"
   ]
  },
  {
   "cell_type": "code",
   "execution_count": 132,
   "id": "0011744d",
   "metadata": {},
   "outputs": [],
   "source": [
    "f = np.array([2,3,23,4,32,4,2,2,2,4,5,5,6,2,1])"
   ]
  },
  {
   "cell_type": "code",
   "execution_count": 134,
   "id": "7e098a70",
   "metadata": {},
   "outputs": [
    {
     "data": {
      "text/plain": [
       "array([ 1,  2,  3,  4,  5,  6,  9, 10, 13, 23, 24, 32, 43, 64])"
      ]
     },
     "execution_count": 134,
     "metadata": {},
     "output_type": "execute_result"
    }
   ],
   "source": [
    "np.union1d(f, z) #20th universal function"
   ]
  },
  {
   "cell_type": "code",
   "execution_count": null,
   "id": "a3dc36d5",
   "metadata": {},
   "outputs": [],
   "source": []
  }
 ],
 "metadata": {
  "kernelspec": {
   "display_name": "Python 3 (ipykernel)",
   "language": "python",
   "name": "python3"
  },
  "language_info": {
   "codemirror_mode": {
    "name": "ipython",
    "version": 3
   },
   "file_extension": ".py",
   "mimetype": "text/x-python",
   "name": "python",
   "nbconvert_exporter": "python",
   "pygments_lexer": "ipython3",
   "version": "3.10.6"
  }
 },
 "nbformat": 4,
 "nbformat_minor": 5
}
